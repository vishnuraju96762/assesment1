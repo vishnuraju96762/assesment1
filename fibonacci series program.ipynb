{
 "cells": [
  {
   "cell_type": "code",
   "execution_count": 7,
   "id": "9d5d4d3b",
   "metadata": {},
   "outputs": [],
   "source": [
    "# fibonacci series program\n"
   ]
  },
  {
   "cell_type": "code",
   "execution_count": 8,
   "id": "1a1c4533",
   "metadata": {},
   "outputs": [],
   "source": [
    "first,second=0,1"
   ]
  },
  {
   "cell_type": "code",
   "execution_count": 9,
   "id": "ac8c0d69",
   "metadata": {},
   "outputs": [
    {
     "ename": "IndentationError",
     "evalue": "unexpected indent (3041994026.py, line 4)",
     "output_type": "error",
     "traceback": [
      "\u001b[1;36m  Cell \u001b[1;32mIn [9], line 4\u001b[1;36m\u001b[0m\n\u001b[1;33m    while second<50:\u001b[0m\n\u001b[1;37m    ^\u001b[0m\n\u001b[1;31mIndentationError\u001b[0m\u001b[1;31m:\u001b[0m unexpected indent\n"
     ]
    }
   ],
   "source": [
    "first,second=0,1\n",
    "print(first)\n",
    "print(second)\n",
    "  while second<50:\n",
    "    first,second=second,first+second\n",
    "       "
   ]
  }
 ],
 "metadata": {
  "kernelspec": {
   "display_name": "Python 3.10.7 64-bit",
   "language": "python",
   "name": "python3"
  },
  "language_info": {
   "codemirror_mode": {
    "name": "ipython",
    "version": 3
   },
   "file_extension": ".py",
   "mimetype": "text/x-python",
   "name": "python",
   "nbconvert_exporter": "python",
   "pygments_lexer": "ipython3",
   "version": "3.10.7"
  },
  "vscode": {
   "interpreter": {
    "hash": "e2ace91d6470e1f250b7cfffe6dcf9644f519f58a910a1d1f7359ed15839b1fc"
   }
  }
 },
 "nbformat": 4,
 "nbformat_minor": 5
}
